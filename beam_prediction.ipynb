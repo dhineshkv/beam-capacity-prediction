{
  "nbformat": 4,
  "nbformat_minor": 0,
  "metadata": {
    "colab": {
      "provenance": [],
      "authorship_tag": "ABX9TyMRtypd2wQeHjMZujuGKCRY",
      "include_colab_link": true
    },
    "kernelspec": {
      "name": "python3",
      "display_name": "Python 3"
    },
    "language_info": {
      "name": "python"
    }
  },
  "cells": [
    {
      "cell_type": "markdown",
      "metadata": {
        "id": "view-in-github",
        "colab_type": "text"
      },
      "source": [
        "<a href=\"https://colab.research.google.com/github/dhineshkv/beam-strength/blob/main/beam_prediction.ipynb\" target=\"_parent\"><img src=\"https://colab.research.google.com/assets/colab-badge.svg\" alt=\"Open In Colab\"/></a>"
      ]
    },
    {
      "cell_type": "code",
      "execution_count": 1,
      "metadata": {
        "colab": {
          "base_uri": "https://localhost:8080/"
        },
        "id": "f6SdVdg8R_DN",
        "outputId": "c8a980d7-cd22-469f-ca3d-c02534d8ab5f"
      },
      "outputs": [
        {
          "output_type": "stream",
          "name": "stdout",
          "text": [
            "Requirement already satisfied: tensorflow in /usr/local/lib/python3.12/dist-packages (2.19.0)\n",
            "Requirement already satisfied: scikit-learn in /usr/local/lib/python3.12/dist-packages (1.6.1)\n",
            "Requirement already satisfied: matplotlib in /usr/local/lib/python3.12/dist-packages (3.10.0)\n",
            "Requirement already satisfied: joblib in /usr/local/lib/python3.12/dist-packages (1.5.2)\n",
            "Requirement already satisfied: absl-py>=1.0.0 in /usr/local/lib/python3.12/dist-packages (from tensorflow) (1.4.0)\n",
            "Requirement already satisfied: astunparse>=1.6.0 in /usr/local/lib/python3.12/dist-packages (from tensorflow) (1.6.3)\n",
            "Requirement already satisfied: flatbuffers>=24.3.25 in /usr/local/lib/python3.12/dist-packages (from tensorflow) (25.2.10)\n",
            "Requirement already satisfied: gast!=0.5.0,!=0.5.1,!=0.5.2,>=0.2.1 in /usr/local/lib/python3.12/dist-packages (from tensorflow) (0.6.0)\n",
            "Requirement already satisfied: google-pasta>=0.1.1 in /usr/local/lib/python3.12/dist-packages (from tensorflow) (0.2.0)\n",
            "Requirement already satisfied: libclang>=13.0.0 in /usr/local/lib/python3.12/dist-packages (from tensorflow) (18.1.1)\n",
            "Requirement already satisfied: opt-einsum>=2.3.2 in /usr/local/lib/python3.12/dist-packages (from tensorflow) (3.4.0)\n",
            "Requirement already satisfied: packaging in /usr/local/lib/python3.12/dist-packages (from tensorflow) (25.0)\n",
            "Requirement already satisfied: protobuf!=4.21.0,!=4.21.1,!=4.21.2,!=4.21.3,!=4.21.4,!=4.21.5,<6.0.0dev,>=3.20.3 in /usr/local/lib/python3.12/dist-packages (from tensorflow) (5.29.5)\n",
            "Requirement already satisfied: requests<3,>=2.21.0 in /usr/local/lib/python3.12/dist-packages (from tensorflow) (2.32.4)\n",
            "Requirement already satisfied: setuptools in /usr/local/lib/python3.12/dist-packages (from tensorflow) (75.2.0)\n",
            "Requirement already satisfied: six>=1.12.0 in /usr/local/lib/python3.12/dist-packages (from tensorflow) (1.17.0)\n",
            "Requirement already satisfied: termcolor>=1.1.0 in /usr/local/lib/python3.12/dist-packages (from tensorflow) (3.1.0)\n",
            "Requirement already satisfied: typing-extensions>=3.6.6 in /usr/local/lib/python3.12/dist-packages (from tensorflow) (4.15.0)\n",
            "Requirement already satisfied: wrapt>=1.11.0 in /usr/local/lib/python3.12/dist-packages (from tensorflow) (1.17.3)\n",
            "Requirement already satisfied: grpcio<2.0,>=1.24.3 in /usr/local/lib/python3.12/dist-packages (from tensorflow) (1.75.0)\n",
            "Requirement already satisfied: tensorboard~=2.19.0 in /usr/local/lib/python3.12/dist-packages (from tensorflow) (2.19.0)\n",
            "Requirement already satisfied: keras>=3.5.0 in /usr/local/lib/python3.12/dist-packages (from tensorflow) (3.10.0)\n",
            "Requirement already satisfied: numpy<2.2.0,>=1.26.0 in /usr/local/lib/python3.12/dist-packages (from tensorflow) (2.0.2)\n",
            "Requirement already satisfied: h5py>=3.11.0 in /usr/local/lib/python3.12/dist-packages (from tensorflow) (3.14.0)\n",
            "Requirement already satisfied: ml-dtypes<1.0.0,>=0.5.1 in /usr/local/lib/python3.12/dist-packages (from tensorflow) (0.5.3)\n",
            "Requirement already satisfied: scipy>=1.6.0 in /usr/local/lib/python3.12/dist-packages (from scikit-learn) (1.16.2)\n",
            "Requirement already satisfied: threadpoolctl>=3.1.0 in /usr/local/lib/python3.12/dist-packages (from scikit-learn) (3.6.0)\n",
            "Requirement already satisfied: contourpy>=1.0.1 in /usr/local/lib/python3.12/dist-packages (from matplotlib) (1.3.3)\n",
            "Requirement already satisfied: cycler>=0.10 in /usr/local/lib/python3.12/dist-packages (from matplotlib) (0.12.1)\n",
            "Requirement already satisfied: fonttools>=4.22.0 in /usr/local/lib/python3.12/dist-packages (from matplotlib) (4.60.0)\n",
            "Requirement already satisfied: kiwisolver>=1.3.1 in /usr/local/lib/python3.12/dist-packages (from matplotlib) (1.4.9)\n",
            "Requirement already satisfied: pillow>=8 in /usr/local/lib/python3.12/dist-packages (from matplotlib) (11.3.0)\n",
            "Requirement already satisfied: pyparsing>=2.3.1 in /usr/local/lib/python3.12/dist-packages (from matplotlib) (3.2.4)\n",
            "Requirement already satisfied: python-dateutil>=2.7 in /usr/local/lib/python3.12/dist-packages (from matplotlib) (2.9.0.post0)\n",
            "Requirement already satisfied: wheel<1.0,>=0.23.0 in /usr/local/lib/python3.12/dist-packages (from astunparse>=1.6.0->tensorflow) (0.45.1)\n",
            "Requirement already satisfied: rich in /usr/local/lib/python3.12/dist-packages (from keras>=3.5.0->tensorflow) (13.9.4)\n",
            "Requirement already satisfied: namex in /usr/local/lib/python3.12/dist-packages (from keras>=3.5.0->tensorflow) (0.1.0)\n",
            "Requirement already satisfied: optree in /usr/local/lib/python3.12/dist-packages (from keras>=3.5.0->tensorflow) (0.17.0)\n",
            "Requirement already satisfied: charset_normalizer<4,>=2 in /usr/local/lib/python3.12/dist-packages (from requests<3,>=2.21.0->tensorflow) (3.4.3)\n",
            "Requirement already satisfied: idna<4,>=2.5 in /usr/local/lib/python3.12/dist-packages (from requests<3,>=2.21.0->tensorflow) (3.10)\n",
            "Requirement already satisfied: urllib3<3,>=1.21.1 in /usr/local/lib/python3.12/dist-packages (from requests<3,>=2.21.0->tensorflow) (2.5.0)\n",
            "Requirement already satisfied: certifi>=2017.4.17 in /usr/local/lib/python3.12/dist-packages (from requests<3,>=2.21.0->tensorflow) (2025.8.3)\n",
            "Requirement already satisfied: markdown>=2.6.8 in /usr/local/lib/python3.12/dist-packages (from tensorboard~=2.19.0->tensorflow) (3.9)\n",
            "Requirement already satisfied: tensorboard-data-server<0.8.0,>=0.7.0 in /usr/local/lib/python3.12/dist-packages (from tensorboard~=2.19.0->tensorflow) (0.7.2)\n",
            "Requirement already satisfied: werkzeug>=1.0.1 in /usr/local/lib/python3.12/dist-packages (from tensorboard~=2.19.0->tensorflow) (3.1.3)\n",
            "Requirement already satisfied: MarkupSafe>=2.1.1 in /usr/local/lib/python3.12/dist-packages (from werkzeug>=1.0.1->tensorboard~=2.19.0->tensorflow) (3.0.2)\n",
            "Requirement already satisfied: markdown-it-py>=2.2.0 in /usr/local/lib/python3.12/dist-packages (from rich->keras>=3.5.0->tensorflow) (4.0.0)\n",
            "Requirement already satisfied: pygments<3.0.0,>=2.13.0 in /usr/local/lib/python3.12/dist-packages (from rich->keras>=3.5.0->tensorflow) (2.19.2)\n",
            "Requirement already satisfied: mdurl~=0.1 in /usr/local/lib/python3.12/dist-packages (from markdown-it-py>=2.2.0->rich->keras>=3.5.0->tensorflow) (0.1.2)\n"
          ]
        }
      ],
      "source": [
        "!pip install tensorflow scikit-learn matplotlib joblib"
      ]
    },
    {
      "cell_type": "code",
      "source": [
        "import numpy as np\n",
        "import pandas as pd\n",
        "import matplotlib.pyplot as plt\n",
        "import tensorflow as tf\n",
        "from tensorflow.keras import layers, models, callbacks\n",
        "from sklearn.model_selection import train_test_split\n",
        "from sklearn.preprocessing import StandardScaler\n",
        "from sklearn.metrics import mean_absolute_error, r2_score\n",
        "import joblib"
      ],
      "metadata": {
        "id": "uR8nE13iSM3b"
      },
      "execution_count": 2,
      "outputs": []
    },
    {
      "cell_type": "code",
      "source": [
        "from google.colab import files\n",
        "uploaded = files.upload()"
      ],
      "metadata": {
        "colab": {
          "base_uri": "https://localhost:8080/",
          "height": 73
        },
        "id": "ruPyiLfjSVoi",
        "outputId": "56383fd4-68e0-4dad-b2c9-9707e0ccbdfa"
      },
      "execution_count": 3,
      "outputs": [
        {
          "output_type": "display_data",
          "data": {
            "text/plain": [
              "<IPython.core.display.HTML object>"
            ],
            "text/html": [
              "\n",
              "     <input type=\"file\" id=\"files-7e7de6b2-5446-4e7f-b86c-8f15cf342f27\" name=\"files[]\" multiple disabled\n",
              "        style=\"border:none\" />\n",
              "     <output id=\"result-7e7de6b2-5446-4e7f-b86c-8f15cf342f27\">\n",
              "      Upload widget is only available when the cell has been executed in the\n",
              "      current browser session. Please rerun this cell to enable.\n",
              "      </output>\n",
              "      <script>// Copyright 2017 Google LLC\n",
              "//\n",
              "// Licensed under the Apache License, Version 2.0 (the \"License\");\n",
              "// you may not use this file except in compliance with the License.\n",
              "// You may obtain a copy of the License at\n",
              "//\n",
              "//      http://www.apache.org/licenses/LICENSE-2.0\n",
              "//\n",
              "// Unless required by applicable law or agreed to in writing, software\n",
              "// distributed under the License is distributed on an \"AS IS\" BASIS,\n",
              "// WITHOUT WARRANTIES OR CONDITIONS OF ANY KIND, either express or implied.\n",
              "// See the License for the specific language governing permissions and\n",
              "// limitations under the License.\n",
              "\n",
              "/**\n",
              " * @fileoverview Helpers for google.colab Python module.\n",
              " */\n",
              "(function(scope) {\n",
              "function span(text, styleAttributes = {}) {\n",
              "  const element = document.createElement('span');\n",
              "  element.textContent = text;\n",
              "  for (const key of Object.keys(styleAttributes)) {\n",
              "    element.style[key] = styleAttributes[key];\n",
              "  }\n",
              "  return element;\n",
              "}\n",
              "\n",
              "// Max number of bytes which will be uploaded at a time.\n",
              "const MAX_PAYLOAD_SIZE = 100 * 1024;\n",
              "\n",
              "function _uploadFiles(inputId, outputId) {\n",
              "  const steps = uploadFilesStep(inputId, outputId);\n",
              "  const outputElement = document.getElementById(outputId);\n",
              "  // Cache steps on the outputElement to make it available for the next call\n",
              "  // to uploadFilesContinue from Python.\n",
              "  outputElement.steps = steps;\n",
              "\n",
              "  return _uploadFilesContinue(outputId);\n",
              "}\n",
              "\n",
              "// This is roughly an async generator (not supported in the browser yet),\n",
              "// where there are multiple asynchronous steps and the Python side is going\n",
              "// to poll for completion of each step.\n",
              "// This uses a Promise to block the python side on completion of each step,\n",
              "// then passes the result of the previous step as the input to the next step.\n",
              "function _uploadFilesContinue(outputId) {\n",
              "  const outputElement = document.getElementById(outputId);\n",
              "  const steps = outputElement.steps;\n",
              "\n",
              "  const next = steps.next(outputElement.lastPromiseValue);\n",
              "  return Promise.resolve(next.value.promise).then((value) => {\n",
              "    // Cache the last promise value to make it available to the next\n",
              "    // step of the generator.\n",
              "    outputElement.lastPromiseValue = value;\n",
              "    return next.value.response;\n",
              "  });\n",
              "}\n",
              "\n",
              "/**\n",
              " * Generator function which is called between each async step of the upload\n",
              " * process.\n",
              " * @param {string} inputId Element ID of the input file picker element.\n",
              " * @param {string} outputId Element ID of the output display.\n",
              " * @return {!Iterable<!Object>} Iterable of next steps.\n",
              " */\n",
              "function* uploadFilesStep(inputId, outputId) {\n",
              "  const inputElement = document.getElementById(inputId);\n",
              "  inputElement.disabled = false;\n",
              "\n",
              "  const outputElement = document.getElementById(outputId);\n",
              "  outputElement.innerHTML = '';\n",
              "\n",
              "  const pickedPromise = new Promise((resolve) => {\n",
              "    inputElement.addEventListener('change', (e) => {\n",
              "      resolve(e.target.files);\n",
              "    });\n",
              "  });\n",
              "\n",
              "  const cancel = document.createElement('button');\n",
              "  inputElement.parentElement.appendChild(cancel);\n",
              "  cancel.textContent = 'Cancel upload';\n",
              "  const cancelPromise = new Promise((resolve) => {\n",
              "    cancel.onclick = () => {\n",
              "      resolve(null);\n",
              "    };\n",
              "  });\n",
              "\n",
              "  // Wait for the user to pick the files.\n",
              "  const files = yield {\n",
              "    promise: Promise.race([pickedPromise, cancelPromise]),\n",
              "    response: {\n",
              "      action: 'starting',\n",
              "    }\n",
              "  };\n",
              "\n",
              "  cancel.remove();\n",
              "\n",
              "  // Disable the input element since further picks are not allowed.\n",
              "  inputElement.disabled = true;\n",
              "\n",
              "  if (!files) {\n",
              "    return {\n",
              "      response: {\n",
              "        action: 'complete',\n",
              "      }\n",
              "    };\n",
              "  }\n",
              "\n",
              "  for (const file of files) {\n",
              "    const li = document.createElement('li');\n",
              "    li.append(span(file.name, {fontWeight: 'bold'}));\n",
              "    li.append(span(\n",
              "        `(${file.type || 'n/a'}) - ${file.size} bytes, ` +\n",
              "        `last modified: ${\n",
              "            file.lastModifiedDate ? file.lastModifiedDate.toLocaleDateString() :\n",
              "                                    'n/a'} - `));\n",
              "    const percent = span('0% done');\n",
              "    li.appendChild(percent);\n",
              "\n",
              "    outputElement.appendChild(li);\n",
              "\n",
              "    const fileDataPromise = new Promise((resolve) => {\n",
              "      const reader = new FileReader();\n",
              "      reader.onload = (e) => {\n",
              "        resolve(e.target.result);\n",
              "      };\n",
              "      reader.readAsArrayBuffer(file);\n",
              "    });\n",
              "    // Wait for the data to be ready.\n",
              "    let fileData = yield {\n",
              "      promise: fileDataPromise,\n",
              "      response: {\n",
              "        action: 'continue',\n",
              "      }\n",
              "    };\n",
              "\n",
              "    // Use a chunked sending to avoid message size limits. See b/62115660.\n",
              "    let position = 0;\n",
              "    do {\n",
              "      const length = Math.min(fileData.byteLength - position, MAX_PAYLOAD_SIZE);\n",
              "      const chunk = new Uint8Array(fileData, position, length);\n",
              "      position += length;\n",
              "\n",
              "      const base64 = btoa(String.fromCharCode.apply(null, chunk));\n",
              "      yield {\n",
              "        response: {\n",
              "          action: 'append',\n",
              "          file: file.name,\n",
              "          data: base64,\n",
              "        },\n",
              "      };\n",
              "\n",
              "      let percentDone = fileData.byteLength === 0 ?\n",
              "          100 :\n",
              "          Math.round((position / fileData.byteLength) * 100);\n",
              "      percent.textContent = `${percentDone}% done`;\n",
              "\n",
              "    } while (position < fileData.byteLength);\n",
              "  }\n",
              "\n",
              "  // All done.\n",
              "  yield {\n",
              "    response: {\n",
              "      action: 'complete',\n",
              "    }\n",
              "  };\n",
              "}\n",
              "\n",
              "scope.google = scope.google || {};\n",
              "scope.google.colab = scope.google.colab || {};\n",
              "scope.google.colab._files = {\n",
              "  _uploadFiles,\n",
              "  _uploadFilesContinue,\n",
              "};\n",
              "})(self);\n",
              "</script> "
            ]
          },
          "metadata": {}
        },
        {
          "output_type": "stream",
          "name": "stdout",
          "text": [
            "Saving rc_beam_bearing_capacity_dataset.csv to rc_beam_bearing_capacity_dataset.csv\n"
          ]
        }
      ]
    },
    {
      "cell_type": "code",
      "source": [
        "df = pd.read_csv(\"rc_beam_bearing_capacity_dataset.csv\")\n",
        "print(\"Dataset shape:\", df.shape)\n",
        "df.head()"
      ],
      "metadata": {
        "colab": {
          "base_uri": "https://localhost:8080/",
          "height": 243
        },
        "id": "MEGbG7YnSeZG",
        "outputId": "85f847f0-5937-401f-cde3-2c0c8584bd1e"
      },
      "execution_count": 4,
      "outputs": [
        {
          "output_type": "stream",
          "name": "stdout",
          "text": [
            "Dataset shape: (3234, 10)\n"
          ]
        },
        {
          "output_type": "execute_result",
          "data": {
            "text/plain": [
              "   Beam_Length_mm  Beam_Width_mm  Beam_Height_mm  Concrete_Grade_MPa  \\\n",
              "0     3061.810178     258.654930      583.508248                  40   \n",
              "1     3926.071460     235.130506      541.587820                  40   \n",
              "2     3597.990913     232.933088      514.487478                  35   \n",
              "3     3397.987726     343.979420      555.974095                  35   \n",
              "4     2734.027961     292.445073      511.879949                  25   \n",
              "\n",
              "   Longitudinal_Reinforcement_Ratio_percent  Stirrup_Spacing_mm  \\\n",
              "0                                  2.420631                 200   \n",
              "1                                  1.904363                 150   \n",
              "2                                  1.868609                 150   \n",
              "3                                  1.347852                 150   \n",
              "4                                  1.070047                 150   \n",
              "\n",
              "   Stirrup_Diameter_mm  Steel_Yield_Strength_MPa  \\\n",
              "0                   10                       500   \n",
              "1                   12                       550   \n",
              "2                   12                       550   \n",
              "3                   10                       500   \n",
              "4                    8                       550   \n",
              "\n",
              "   Concrete_Compressive_Strength_MPa  Bearing_Capacity_kN  \n",
              "0                                 40          5409.692168  \n",
              "1                                 40          4463.967480  \n",
              "2                                 35          3959.578646  \n",
              "3                                 35          4700.863286  \n",
              "4                                 25          2926.786455  "
            ],
            "text/html": [
              "\n",
              "  <div id=\"df-4b7fcf13-e2f1-46b2-9a27-ceaefef22dbe\" class=\"colab-df-container\">\n",
              "    <div>\n",
              "<style scoped>\n",
              "    .dataframe tbody tr th:only-of-type {\n",
              "        vertical-align: middle;\n",
              "    }\n",
              "\n",
              "    .dataframe tbody tr th {\n",
              "        vertical-align: top;\n",
              "    }\n",
              "\n",
              "    .dataframe thead th {\n",
              "        text-align: right;\n",
              "    }\n",
              "</style>\n",
              "<table border=\"1\" class=\"dataframe\">\n",
              "  <thead>\n",
              "    <tr style=\"text-align: right;\">\n",
              "      <th></th>\n",
              "      <th>Beam_Length_mm</th>\n",
              "      <th>Beam_Width_mm</th>\n",
              "      <th>Beam_Height_mm</th>\n",
              "      <th>Concrete_Grade_MPa</th>\n",
              "      <th>Longitudinal_Reinforcement_Ratio_percent</th>\n",
              "      <th>Stirrup_Spacing_mm</th>\n",
              "      <th>Stirrup_Diameter_mm</th>\n",
              "      <th>Steel_Yield_Strength_MPa</th>\n",
              "      <th>Concrete_Compressive_Strength_MPa</th>\n",
              "      <th>Bearing_Capacity_kN</th>\n",
              "    </tr>\n",
              "  </thead>\n",
              "  <tbody>\n",
              "    <tr>\n",
              "      <th>0</th>\n",
              "      <td>3061.810178</td>\n",
              "      <td>258.654930</td>\n",
              "      <td>583.508248</td>\n",
              "      <td>40</td>\n",
              "      <td>2.420631</td>\n",
              "      <td>200</td>\n",
              "      <td>10</td>\n",
              "      <td>500</td>\n",
              "      <td>40</td>\n",
              "      <td>5409.692168</td>\n",
              "    </tr>\n",
              "    <tr>\n",
              "      <th>1</th>\n",
              "      <td>3926.071460</td>\n",
              "      <td>235.130506</td>\n",
              "      <td>541.587820</td>\n",
              "      <td>40</td>\n",
              "      <td>1.904363</td>\n",
              "      <td>150</td>\n",
              "      <td>12</td>\n",
              "      <td>550</td>\n",
              "      <td>40</td>\n",
              "      <td>4463.967480</td>\n",
              "    </tr>\n",
              "    <tr>\n",
              "      <th>2</th>\n",
              "      <td>3597.990913</td>\n",
              "      <td>232.933088</td>\n",
              "      <td>514.487478</td>\n",
              "      <td>35</td>\n",
              "      <td>1.868609</td>\n",
              "      <td>150</td>\n",
              "      <td>12</td>\n",
              "      <td>550</td>\n",
              "      <td>35</td>\n",
              "      <td>3959.578646</td>\n",
              "    </tr>\n",
              "    <tr>\n",
              "      <th>3</th>\n",
              "      <td>3397.987726</td>\n",
              "      <td>343.979420</td>\n",
              "      <td>555.974095</td>\n",
              "      <td>35</td>\n",
              "      <td>1.347852</td>\n",
              "      <td>150</td>\n",
              "      <td>10</td>\n",
              "      <td>500</td>\n",
              "      <td>35</td>\n",
              "      <td>4700.863286</td>\n",
              "    </tr>\n",
              "    <tr>\n",
              "      <th>4</th>\n",
              "      <td>2734.027961</td>\n",
              "      <td>292.445073</td>\n",
              "      <td>511.879949</td>\n",
              "      <td>25</td>\n",
              "      <td>1.070047</td>\n",
              "      <td>150</td>\n",
              "      <td>8</td>\n",
              "      <td>550</td>\n",
              "      <td>25</td>\n",
              "      <td>2926.786455</td>\n",
              "    </tr>\n",
              "  </tbody>\n",
              "</table>\n",
              "</div>\n",
              "    <div class=\"colab-df-buttons\">\n",
              "\n",
              "  <div class=\"colab-df-container\">\n",
              "    <button class=\"colab-df-convert\" onclick=\"convertToInteractive('df-4b7fcf13-e2f1-46b2-9a27-ceaefef22dbe')\"\n",
              "            title=\"Convert this dataframe to an interactive table.\"\n",
              "            style=\"display:none;\">\n",
              "\n",
              "  <svg xmlns=\"http://www.w3.org/2000/svg\" height=\"24px\" viewBox=\"0 -960 960 960\">\n",
              "    <path d=\"M120-120v-720h720v720H120Zm60-500h600v-160H180v160Zm220 220h160v-160H400v160Zm0 220h160v-160H400v160ZM180-400h160v-160H180v160Zm440 0h160v-160H620v160ZM180-180h160v-160H180v160Zm440 0h160v-160H620v160Z\"/>\n",
              "  </svg>\n",
              "    </button>\n",
              "\n",
              "  <style>\n",
              "    .colab-df-container {\n",
              "      display:flex;\n",
              "      gap: 12px;\n",
              "    }\n",
              "\n",
              "    .colab-df-convert {\n",
              "      background-color: #E8F0FE;\n",
              "      border: none;\n",
              "      border-radius: 50%;\n",
              "      cursor: pointer;\n",
              "      display: none;\n",
              "      fill: #1967D2;\n",
              "      height: 32px;\n",
              "      padding: 0 0 0 0;\n",
              "      width: 32px;\n",
              "    }\n",
              "\n",
              "    .colab-df-convert:hover {\n",
              "      background-color: #E2EBFA;\n",
              "      box-shadow: 0px 1px 2px rgba(60, 64, 67, 0.3), 0px 1px 3px 1px rgba(60, 64, 67, 0.15);\n",
              "      fill: #174EA6;\n",
              "    }\n",
              "\n",
              "    .colab-df-buttons div {\n",
              "      margin-bottom: 4px;\n",
              "    }\n",
              "\n",
              "    [theme=dark] .colab-df-convert {\n",
              "      background-color: #3B4455;\n",
              "      fill: #D2E3FC;\n",
              "    }\n",
              "\n",
              "    [theme=dark] .colab-df-convert:hover {\n",
              "      background-color: #434B5C;\n",
              "      box-shadow: 0px 1px 3px 1px rgba(0, 0, 0, 0.15);\n",
              "      filter: drop-shadow(0px 1px 2px rgba(0, 0, 0, 0.3));\n",
              "      fill: #FFFFFF;\n",
              "    }\n",
              "  </style>\n",
              "\n",
              "    <script>\n",
              "      const buttonEl =\n",
              "        document.querySelector('#df-4b7fcf13-e2f1-46b2-9a27-ceaefef22dbe button.colab-df-convert');\n",
              "      buttonEl.style.display =\n",
              "        google.colab.kernel.accessAllowed ? 'block' : 'none';\n",
              "\n",
              "      async function convertToInteractive(key) {\n",
              "        const element = document.querySelector('#df-4b7fcf13-e2f1-46b2-9a27-ceaefef22dbe');\n",
              "        const dataTable =\n",
              "          await google.colab.kernel.invokeFunction('convertToInteractive',\n",
              "                                                    [key], {});\n",
              "        if (!dataTable) return;\n",
              "\n",
              "        const docLinkHtml = 'Like what you see? Visit the ' +\n",
              "          '<a target=\"_blank\" href=https://colab.research.google.com/notebooks/data_table.ipynb>data table notebook</a>'\n",
              "          + ' to learn more about interactive tables.';\n",
              "        element.innerHTML = '';\n",
              "        dataTable['output_type'] = 'display_data';\n",
              "        await google.colab.output.renderOutput(dataTable, element);\n",
              "        const docLink = document.createElement('div');\n",
              "        docLink.innerHTML = docLinkHtml;\n",
              "        element.appendChild(docLink);\n",
              "      }\n",
              "    </script>\n",
              "  </div>\n",
              "\n",
              "\n",
              "    <div id=\"df-a598994c-6031-496b-9c91-540bcd79e34b\">\n",
              "      <button class=\"colab-df-quickchart\" onclick=\"quickchart('df-a598994c-6031-496b-9c91-540bcd79e34b')\"\n",
              "                title=\"Suggest charts\"\n",
              "                style=\"display:none;\">\n",
              "\n",
              "<svg xmlns=\"http://www.w3.org/2000/svg\" height=\"24px\"viewBox=\"0 0 24 24\"\n",
              "     width=\"24px\">\n",
              "    <g>\n",
              "        <path d=\"M19 3H5c-1.1 0-2 .9-2 2v14c0 1.1.9 2 2 2h14c1.1 0 2-.9 2-2V5c0-1.1-.9-2-2-2zM9 17H7v-7h2v7zm4 0h-2V7h2v10zm4 0h-2v-4h2v4z\"/>\n",
              "    </g>\n",
              "</svg>\n",
              "      </button>\n",
              "\n",
              "<style>\n",
              "  .colab-df-quickchart {\n",
              "      --bg-color: #E8F0FE;\n",
              "      --fill-color: #1967D2;\n",
              "      --hover-bg-color: #E2EBFA;\n",
              "      --hover-fill-color: #174EA6;\n",
              "      --disabled-fill-color: #AAA;\n",
              "      --disabled-bg-color: #DDD;\n",
              "  }\n",
              "\n",
              "  [theme=dark] .colab-df-quickchart {\n",
              "      --bg-color: #3B4455;\n",
              "      --fill-color: #D2E3FC;\n",
              "      --hover-bg-color: #434B5C;\n",
              "      --hover-fill-color: #FFFFFF;\n",
              "      --disabled-bg-color: #3B4455;\n",
              "      --disabled-fill-color: #666;\n",
              "  }\n",
              "\n",
              "  .colab-df-quickchart {\n",
              "    background-color: var(--bg-color);\n",
              "    border: none;\n",
              "    border-radius: 50%;\n",
              "    cursor: pointer;\n",
              "    display: none;\n",
              "    fill: var(--fill-color);\n",
              "    height: 32px;\n",
              "    padding: 0;\n",
              "    width: 32px;\n",
              "  }\n",
              "\n",
              "  .colab-df-quickchart:hover {\n",
              "    background-color: var(--hover-bg-color);\n",
              "    box-shadow: 0 1px 2px rgba(60, 64, 67, 0.3), 0 1px 3px 1px rgba(60, 64, 67, 0.15);\n",
              "    fill: var(--button-hover-fill-color);\n",
              "  }\n",
              "\n",
              "  .colab-df-quickchart-complete:disabled,\n",
              "  .colab-df-quickchart-complete:disabled:hover {\n",
              "    background-color: var(--disabled-bg-color);\n",
              "    fill: var(--disabled-fill-color);\n",
              "    box-shadow: none;\n",
              "  }\n",
              "\n",
              "  .colab-df-spinner {\n",
              "    border: 2px solid var(--fill-color);\n",
              "    border-color: transparent;\n",
              "    border-bottom-color: var(--fill-color);\n",
              "    animation:\n",
              "      spin 1s steps(1) infinite;\n",
              "  }\n",
              "\n",
              "  @keyframes spin {\n",
              "    0% {\n",
              "      border-color: transparent;\n",
              "      border-bottom-color: var(--fill-color);\n",
              "      border-left-color: var(--fill-color);\n",
              "    }\n",
              "    20% {\n",
              "      border-color: transparent;\n",
              "      border-left-color: var(--fill-color);\n",
              "      border-top-color: var(--fill-color);\n",
              "    }\n",
              "    30% {\n",
              "      border-color: transparent;\n",
              "      border-left-color: var(--fill-color);\n",
              "      border-top-color: var(--fill-color);\n",
              "      border-right-color: var(--fill-color);\n",
              "    }\n",
              "    40% {\n",
              "      border-color: transparent;\n",
              "      border-right-color: var(--fill-color);\n",
              "      border-top-color: var(--fill-color);\n",
              "    }\n",
              "    60% {\n",
              "      border-color: transparent;\n",
              "      border-right-color: var(--fill-color);\n",
              "    }\n",
              "    80% {\n",
              "      border-color: transparent;\n",
              "      border-right-color: var(--fill-color);\n",
              "      border-bottom-color: var(--fill-color);\n",
              "    }\n",
              "    90% {\n",
              "      border-color: transparent;\n",
              "      border-bottom-color: var(--fill-color);\n",
              "    }\n",
              "  }\n",
              "</style>\n",
              "\n",
              "      <script>\n",
              "        async function quickchart(key) {\n",
              "          const quickchartButtonEl =\n",
              "            document.querySelector('#' + key + ' button');\n",
              "          quickchartButtonEl.disabled = true;  // To prevent multiple clicks.\n",
              "          quickchartButtonEl.classList.add('colab-df-spinner');\n",
              "          try {\n",
              "            const charts = await google.colab.kernel.invokeFunction(\n",
              "                'suggestCharts', [key], {});\n",
              "          } catch (error) {\n",
              "            console.error('Error during call to suggestCharts:', error);\n",
              "          }\n",
              "          quickchartButtonEl.classList.remove('colab-df-spinner');\n",
              "          quickchartButtonEl.classList.add('colab-df-quickchart-complete');\n",
              "        }\n",
              "        (() => {\n",
              "          let quickchartButtonEl =\n",
              "            document.querySelector('#df-a598994c-6031-496b-9c91-540bcd79e34b button');\n",
              "          quickchartButtonEl.style.display =\n",
              "            google.colab.kernel.accessAllowed ? 'block' : 'none';\n",
              "        })();\n",
              "      </script>\n",
              "    </div>\n",
              "\n",
              "    </div>\n",
              "  </div>\n"
            ],
            "application/vnd.google.colaboratory.intrinsic+json": {
              "type": "dataframe",
              "variable_name": "df",
              "summary": "{\n  \"name\": \"df\",\n  \"rows\": 3234,\n  \"fields\": [\n    {\n      \"column\": \"Beam_Length_mm\",\n      \"properties\": {\n        \"dtype\": \"number\",\n        \"std\": 436.7538819525716,\n        \"min\": 2500.017452133049,\n        \"max\": 3999.576509929196,\n        \"num_unique_values\": 3234,\n        \"samples\": [\n          3962.189743220175,\n          3939.3649664815503,\n          3127.50079615342\n        ],\n        \"semantic_type\": \"\",\n        \"description\": \"\"\n      }\n    },\n    {\n      \"column\": \"Beam_Width_mm\",\n      \"properties\": {\n        \"dtype\": \"number\",\n        \"std\": 43.13547458203146,\n        \"min\": 200.00460782680736,\n        \"max\": 349.9336554875658,\n        \"num_unique_values\": 3234,\n        \"samples\": [\n          220.7187939710371,\n          346.3115551527118,\n          275.1314908834399\n        ],\n        \"semantic_type\": \"\",\n        \"description\": \"\"\n      }\n    },\n    {\n      \"column\": \"Beam_Height_mm\",\n      \"properties\": {\n        \"dtype\": \"number\",\n        \"std\": 70.928548709835,\n        \"min\": 350.0132067330742,\n        \"max\": 599.8018247358602,\n        \"num_unique_values\": 3234,\n        \"samples\": [\n          596.5874807360406,\n          437.47386591184966,\n          403.6837812803908\n        ],\n        \"semantic_type\": \"\",\n        \"description\": \"\"\n      }\n    },\n    {\n      \"column\": \"Concrete_Grade_MPa\",\n      \"properties\": {\n        \"dtype\": \"number\",\n        \"std\": 5,\n        \"min\": 25,\n        \"max\": 40,\n        \"num_unique_values\": 4,\n        \"samples\": [\n          35,\n          30,\n          40\n        ],\n        \"semantic_type\": \"\",\n        \"description\": \"\"\n      }\n    },\n    {\n      \"column\": \"Longitudinal_Reinforcement_Ratio_percent\",\n      \"properties\": {\n        \"dtype\": \"number\",\n        \"std\": 0.44084083681917796,\n        \"min\": 1.000236616867085,\n        \"max\": 2.499002684246673,\n        \"num_unique_values\": 3234,\n        \"samples\": [\n          1.682577557212208,\n          1.938096444820619,\n          1.19364452478945\n        ],\n        \"semantic_type\": \"\",\n        \"description\": \"\"\n      }\n    },\n    {\n      \"column\": \"Stirrup_Spacing_mm\",\n      \"properties\": {\n        \"dtype\": \"number\",\n        \"std\": 40,\n        \"min\": 100,\n        \"max\": 200,\n        \"num_unique_values\": 3,\n        \"samples\": [\n          200,\n          150,\n          100\n        ],\n        \"semantic_type\": \"\",\n        \"description\": \"\"\n      }\n    },\n    {\n      \"column\": \"Stirrup_Diameter_mm\",\n      \"properties\": {\n        \"dtype\": \"number\",\n        \"std\": 1,\n        \"min\": 8,\n        \"max\": 12,\n        \"num_unique_values\": 3,\n        \"samples\": [\n          10,\n          12,\n          8\n        ],\n        \"semantic_type\": \"\",\n        \"description\": \"\"\n      }\n    },\n    {\n      \"column\": \"Steel_Yield_Strength_MPa\",\n      \"properties\": {\n        \"dtype\": \"number\",\n        \"std\": 40,\n        \"min\": 450,\n        \"max\": 550,\n        \"num_unique_values\": 3,\n        \"samples\": [\n          500,\n          550,\n          450\n        ],\n        \"semantic_type\": \"\",\n        \"description\": \"\"\n      }\n    },\n    {\n      \"column\": \"Concrete_Compressive_Strength_MPa\",\n      \"properties\": {\n        \"dtype\": \"number\",\n        \"std\": 5,\n        \"min\": 25,\n        \"max\": 40,\n        \"num_unique_values\": 4,\n        \"samples\": [\n          35,\n          30,\n          40\n        ],\n        \"semantic_type\": \"\",\n        \"description\": \"\"\n      }\n    },\n    {\n      \"column\": \"Bearing_Capacity_kN\",\n      \"properties\": {\n        \"dtype\": \"number\",\n        \"std\": 745.7599447906831,\n        \"min\": 1990.1225304118848,\n        \"max\": 6097.531089838493,\n        \"num_unique_values\": 3234,\n        \"samples\": [\n          4328.608220651154,\n          3845.5134146260366,\n          2898.145735926934\n        ],\n        \"semantic_type\": \"\",\n        \"description\": \"\"\n      }\n    }\n  ]\n}"
            }
          },
          "metadata": {},
          "execution_count": 4
        }
      ]
    },
    {
      "cell_type": "code",
      "source": [
        "X = df.drop(columns=['Bearing_Capacity_kN']).values\n",
        "y = df['Bearing_Capacity_kN'].values"
      ],
      "metadata": {
        "id": "YjIfZy1HSlrK"
      },
      "execution_count": 5,
      "outputs": []
    },
    {
      "cell_type": "code",
      "source": [
        "X_train, X_test, y_train, y_test = train_test_split(\n",
        "    X, y, test_size=0.2, random_state=42\n",
        ")"
      ],
      "metadata": {
        "id": "L302vxHSSo9J"
      },
      "execution_count": 6,
      "outputs": []
    },
    {
      "cell_type": "code",
      "source": [
        "scaler = StandardScaler().fit(X_train)\n",
        "X_train_s = scaler.transform(X_train)\n",
        "X_test_s = scaler.transform(X_test)"
      ],
      "metadata": {
        "id": "mMdUsRTOSrws"
      },
      "execution_count": 7,
      "outputs": []
    },
    {
      "cell_type": "code",
      "source": [
        "def build_model(input_dim):\n",
        "    inp = layers.Input(shape=(input_dim,))\n",
        "    x = layers.Dense(128, activation='relu')(inp)\n",
        "    x = layers.BatchNormalization()(x)\n",
        "    x = layers.Dropout(0.2)(x)\n",
        "    x = layers.Dense(64, activation='relu')(x)\n",
        "    x = layers.BatchNormalization()(x)\n",
        "    x = layers.Dropout(0.15)(x)\n",
        "    x = layers.Dense(32, activation='relu')(x)\n",
        "    out = layers.Dense(1, activation='linear')(x)\n",
        "    model = models.Model(inp, out)\n",
        "    model.compile(\n",
        "        optimizer=tf.keras.optimizers.Adam(learning_rate=1e-3),\n",
        "        loss='mse',\n",
        "        metrics=['mae']\n",
        "    )\n",
        "    return model\n",
        "\n",
        "model = build_model(X_train_s.shape[1])"
      ],
      "metadata": {
        "id": "fmzPaKwOSu2w"
      },
      "execution_count": 8,
      "outputs": []
    },
    {
      "cell_type": "code",
      "source": [
        "es = callbacks.EarlyStopping(monitor='val_loss', patience=12, restore_best_weights=True)\n",
        "rlr = callbacks.ReduceLROnPlateau(monitor='val_loss', factor=0.5, patience=6)\n",
        "\n",
        "history = model.fit(\n",
        "    X_train_s, y_train,\n",
        "    validation_split=0.15,\n",
        "    epochs=200,\n",
        "    batch_size=32,\n",
        "    callbacks=[es, rlr],\n",
        "    verbose=1\n",
        ")"
      ],
      "metadata": {
        "colab": {
          "base_uri": "https://localhost:8080/"
        },
        "id": "4vuuhQfpSwbQ",
        "outputId": "3c588176-a68d-42de-f8d4-632537a73aeb"
      },
      "execution_count": 9,
      "outputs": [
        {
          "output_type": "stream",
          "name": "stdout",
          "text": [
            "Epoch 1/200\n",
            "\u001b[1m69/69\u001b[0m \u001b[32m━━━━━━━━━━━━━━━━━━━━\u001b[0m\u001b[37m\u001b[0m \u001b[1m3s\u001b[0m 8ms/step - loss: 15500804.0000 - mae: 3864.4602 - val_loss: 15493281.0000 - val_mae: 3869.1633 - learning_rate: 0.0010\n",
            "Epoch 2/200\n",
            "\u001b[1m69/69\u001b[0m \u001b[32m━━━━━━━━━━━━━━━━━━━━\u001b[0m\u001b[37m\u001b[0m \u001b[1m0s\u001b[0m 5ms/step - loss: 15549017.0000 - mae: 3872.1707 - val_loss: 15277486.0000 - val_mae: 3842.6453 - learning_rate: 0.0010\n",
            "Epoch 3/200\n",
            "\u001b[1m69/69\u001b[0m \u001b[32m━━━━━━━━━━━━━━━━━━━━\u001b[0m\u001b[37m\u001b[0m \u001b[1m0s\u001b[0m 4ms/step - loss: 14821121.0000 - mae: 3780.6118 - val_loss: 14672728.0000 - val_mae: 3767.0039 - learning_rate: 0.0010\n",
            "Epoch 4/200\n",
            "\u001b[1m69/69\u001b[0m \u001b[32m━━━━━━━━━━━━━━━━━━━━\u001b[0m\u001b[37m\u001b[0m \u001b[1m0s\u001b[0m 5ms/step - loss: 14397397.0000 - mae: 3724.4534 - val_loss: 13597276.0000 - val_mae: 3627.3042 - learning_rate: 0.0010\n",
            "Epoch 5/200\n",
            "\u001b[1m69/69\u001b[0m \u001b[32m━━━━━━━━━━━━━━━━━━━━\u001b[0m\u001b[37m\u001b[0m \u001b[1m0s\u001b[0m 5ms/step - loss: 13189992.0000 - mae: 3571.0012 - val_loss: 12098057.0000 - val_mae: 3420.2117 - learning_rate: 0.0010\n",
            "Epoch 6/200\n",
            "\u001b[1m69/69\u001b[0m \u001b[32m━━━━━━━━━━━━━━━━━━━━\u001b[0m\u001b[37m\u001b[0m \u001b[1m0s\u001b[0m 5ms/step - loss: 11678674.0000 - mae: 3356.9880 - val_loss: 10293342.0000 - val_mae: 3146.1985 - learning_rate: 0.0010\n",
            "Epoch 7/200\n",
            "\u001b[1m69/69\u001b[0m \u001b[32m━━━━━━━━━━━━━━━━━━━━\u001b[0m\u001b[37m\u001b[0m \u001b[1m0s\u001b[0m 5ms/step - loss: 10123607.0000 - mae: 3116.5593 - val_loss: 8449770.0000 - val_mae: 2830.1208 - learning_rate: 0.0010\n",
            "Epoch 8/200\n",
            "\u001b[1m69/69\u001b[0m \u001b[32m━━━━━━━━━━━━━━━━━━━━\u001b[0m\u001b[37m\u001b[0m \u001b[1m0s\u001b[0m 5ms/step - loss: 8326478.0000 - mae: 2802.3613 - val_loss: 6603946.5000 - val_mae: 2450.3433 - learning_rate: 0.0010\n",
            "Epoch 9/200\n",
            "\u001b[1m69/69\u001b[0m \u001b[32m━━━━━━━━━━━━━━━━━━━━\u001b[0m\u001b[37m\u001b[0m \u001b[1m0s\u001b[0m 4ms/step - loss: 6686650.0000 - mae: 2454.8184 - val_loss: 5125003.5000 - val_mae: 2086.4595 - learning_rate: 0.0010\n",
            "Epoch 10/200\n",
            "\u001b[1m69/69\u001b[0m \u001b[32m━━━━━━━━━━━━━━━━━━━━\u001b[0m\u001b[37m\u001b[0m \u001b[1m0s\u001b[0m 4ms/step - loss: 5066408.5000 - mae: 2058.9807 - val_loss: 3885507.2500 - val_mae: 1726.6366 - learning_rate: 0.0010\n",
            "Epoch 11/200\n",
            "\u001b[1m69/69\u001b[0m \u001b[32m━━━━━━━━━━━━━━━━━━━━\u001b[0m\u001b[37m\u001b[0m \u001b[1m0s\u001b[0m 4ms/step - loss: 3917215.0000 - mae: 1750.0826 - val_loss: 2969662.2500 - val_mae: 1440.1947 - learning_rate: 0.0010\n",
            "Epoch 12/200\n",
            "\u001b[1m69/69\u001b[0m \u001b[32m━━━━━━━━━━━━━━━━━━━━\u001b[0m\u001b[37m\u001b[0m \u001b[1m1s\u001b[0m 4ms/step - loss: 2898731.7500 - mae: 1459.2340 - val_loss: 1969614.5000 - val_mae: 1129.9615 - learning_rate: 0.0010\n",
            "Epoch 13/200\n",
            "\u001b[1m69/69\u001b[0m \u001b[32m━━━━━━━━━━━━━━━━━━━━\u001b[0m\u001b[37m\u001b[0m \u001b[1m0s\u001b[0m 4ms/step - loss: 1857333.3750 - mae: 1159.9150 - val_loss: 1358093.5000 - val_mae: 935.5189 - learning_rate: 0.0010\n",
            "Epoch 14/200\n",
            "\u001b[1m69/69\u001b[0m \u001b[32m━━━━━━━━━━━━━━━━━━━━\u001b[0m\u001b[37m\u001b[0m \u001b[1m0s\u001b[0m 5ms/step - loss: 1335208.1250 - mae: 943.5261 - val_loss: 756090.3750 - val_mae: 675.3315 - learning_rate: 0.0010\n",
            "Epoch 15/200\n",
            "\u001b[1m69/69\u001b[0m \u001b[32m━━━━━━━━━━━━━━━━━━━━\u001b[0m\u001b[37m\u001b[0m \u001b[1m0s\u001b[0m 4ms/step - loss: 927980.2500 - mae: 762.5224 - val_loss: 169535.2188 - val_mae: 311.2613 - learning_rate: 0.0010\n",
            "Epoch 16/200\n",
            "\u001b[1m69/69\u001b[0m \u001b[32m━━━━━━━━━━━━━━━━━━━━\u001b[0m\u001b[37m\u001b[0m \u001b[1m0s\u001b[0m 4ms/step - loss: 940075.4375 - mae: 793.9309 - val_loss: 57581.1680 - val_mae: 180.5820 - learning_rate: 0.0010\n",
            "Epoch 17/200\n",
            "\u001b[1m69/69\u001b[0m \u001b[32m━━━━━━━━━━━━━━━━━━━━\u001b[0m\u001b[37m\u001b[0m \u001b[1m0s\u001b[0m 5ms/step - loss: 651573.8750 - mae: 641.6652 - val_loss: 30165.5801 - val_mae: 126.7506 - learning_rate: 0.0010\n",
            "Epoch 18/200\n",
            "\u001b[1m69/69\u001b[0m \u001b[32m━━━━━━━━━━━━━━━━━━━━\u001b[0m\u001b[37m\u001b[0m \u001b[1m0s\u001b[0m 4ms/step - loss: 702735.7500 - mae: 693.9807 - val_loss: 19828.5879 - val_mae: 104.0081 - learning_rate: 0.0010\n",
            "Epoch 19/200\n",
            "\u001b[1m69/69\u001b[0m \u001b[32m━━━━━━━━━━━━━━━━━━━━\u001b[0m\u001b[37m\u001b[0m \u001b[1m0s\u001b[0m 4ms/step - loss: 1018592.4375 - mae: 795.0506 - val_loss: 13593.3848 - val_mae: 86.9173 - learning_rate: 0.0010\n",
            "Epoch 20/200\n",
            "\u001b[1m69/69\u001b[0m \u001b[32m━━━━━━━━━━━━━━━━━━━━\u001b[0m\u001b[37m\u001b[0m \u001b[1m0s\u001b[0m 5ms/step - loss: 469635.1250 - mae: 543.0627 - val_loss: 19297.1113 - val_mae: 107.5008 - learning_rate: 0.0010\n",
            "Epoch 21/200\n",
            "\u001b[1m69/69\u001b[0m \u001b[32m━━━━━━━━━━━━━━━━━━━━\u001b[0m\u001b[37m\u001b[0m \u001b[1m0s\u001b[0m 7ms/step - loss: 614588.4375 - mae: 617.6340 - val_loss: 14740.8857 - val_mae: 85.5862 - learning_rate: 0.0010\n",
            "Epoch 22/200\n",
            "\u001b[1m69/69\u001b[0m \u001b[32m━━━━━━━━━━━━━━━━━━━━\u001b[0m\u001b[37m\u001b[0m \u001b[1m1s\u001b[0m 7ms/step - loss: 510032.5938 - mae: 557.9214 - val_loss: 13555.3428 - val_mae: 88.9493 - learning_rate: 0.0010\n",
            "Epoch 23/200\n",
            "\u001b[1m69/69\u001b[0m \u001b[32m━━━━━━━━━━━━━━━━━━━━\u001b[0m\u001b[37m\u001b[0m \u001b[1m1s\u001b[0m 7ms/step - loss: 496086.4375 - mae: 571.6050 - val_loss: 14927.6348 - val_mae: 102.3550 - learning_rate: 0.0010\n",
            "Epoch 24/200\n",
            "\u001b[1m69/69\u001b[0m \u001b[32m━━━━━━━━━━━━━━━━━━━━\u001b[0m\u001b[37m\u001b[0m \u001b[1m1s\u001b[0m 7ms/step - loss: 567380.5000 - mae: 589.8675 - val_loss: 14913.0049 - val_mae: 93.8305 - learning_rate: 0.0010\n",
            "Epoch 25/200\n",
            "\u001b[1m69/69\u001b[0m \u001b[32m━━━━━━━━━━━━━━━━━━━━\u001b[0m\u001b[37m\u001b[0m \u001b[1m0s\u001b[0m 4ms/step - loss: 710729.6250 - mae: 675.7520 - val_loss: 9047.1572 - val_mae: 68.3056 - learning_rate: 0.0010\n",
            "Epoch 26/200\n",
            "\u001b[1m69/69\u001b[0m \u001b[32m━━━━━━━━━━━━━━━━━━━━\u001b[0m\u001b[37m\u001b[0m \u001b[1m0s\u001b[0m 5ms/step - loss: 553690.5000 - mae: 588.7239 - val_loss: 8412.2061 - val_mae: 63.6416 - learning_rate: 0.0010\n",
            "Epoch 27/200\n",
            "\u001b[1m69/69\u001b[0m \u001b[32m━━━━━━━━━━━━━━━━━━━━\u001b[0m\u001b[37m\u001b[0m \u001b[1m0s\u001b[0m 4ms/step - loss: 626937.3125 - mae: 630.4250 - val_loss: 10029.3037 - val_mae: 71.1868 - learning_rate: 0.0010\n",
            "Epoch 28/200\n",
            "\u001b[1m69/69\u001b[0m \u001b[32m━━━━━━━━━━━━━━━━━━━━\u001b[0m\u001b[37m\u001b[0m \u001b[1m0s\u001b[0m 4ms/step - loss: 693863.6250 - mae: 665.7173 - val_loss: 11672.2246 - val_mae: 78.8759 - learning_rate: 0.0010\n",
            "Epoch 29/200\n",
            "\u001b[1m69/69\u001b[0m \u001b[32m━━━━━━━━━━━━━━━━━━━━\u001b[0m\u001b[37m\u001b[0m \u001b[1m0s\u001b[0m 5ms/step - loss: 571909.3125 - mae: 598.0718 - val_loss: 17062.1484 - val_mae: 103.7331 - learning_rate: 0.0010\n",
            "Epoch 30/200\n",
            "\u001b[1m69/69\u001b[0m \u001b[32m━━━━━━━━━━━━━━━━━━━━\u001b[0m\u001b[37m\u001b[0m \u001b[1m1s\u001b[0m 4ms/step - loss: 506291.6875 - mae: 577.0085 - val_loss: 9407.3916 - val_mae: 75.0917 - learning_rate: 0.0010\n",
            "Epoch 31/200\n",
            "\u001b[1m69/69\u001b[0m \u001b[32m━━━━━━━━━━━━━━━━━━━━\u001b[0m\u001b[37m\u001b[0m \u001b[1m0s\u001b[0m 4ms/step - loss: 473328.0625 - mae: 547.0266 - val_loss: 20477.2031 - val_mae: 112.9314 - learning_rate: 0.0010\n",
            "Epoch 32/200\n",
            "\u001b[1m69/69\u001b[0m \u001b[32m━━━━━━━━━━━━━━━━━━━━\u001b[0m\u001b[37m\u001b[0m \u001b[1m0s\u001b[0m 4ms/step - loss: 682813.2500 - mae: 674.5114 - val_loss: 10390.2490 - val_mae: 79.4989 - learning_rate: 0.0010\n",
            "Epoch 33/200\n",
            "\u001b[1m69/69\u001b[0m \u001b[32m━━━━━━━━━━━━━━━━━━━━\u001b[0m\u001b[37m\u001b[0m \u001b[1m0s\u001b[0m 4ms/step - loss: 583618.8125 - mae: 620.9224 - val_loss: 11995.1289 - val_mae: 82.8991 - learning_rate: 5.0000e-04\n",
            "Epoch 34/200\n",
            "\u001b[1m69/69\u001b[0m \u001b[32m━━━━━━━━━━━━━━━━━━━━\u001b[0m\u001b[37m\u001b[0m \u001b[1m0s\u001b[0m 4ms/step - loss: 613946.2500 - mae: 624.3299 - val_loss: 11413.8896 - val_mae: 81.6441 - learning_rate: 5.0000e-04\n",
            "Epoch 35/200\n",
            "\u001b[1m69/69\u001b[0m \u001b[32m━━━━━━━━━━━━━━━━━━━━\u001b[0m\u001b[37m\u001b[0m \u001b[1m0s\u001b[0m 5ms/step - loss: 514240.7812 - mae: 582.1987 - val_loss: 8126.1016 - val_mae: 63.5795 - learning_rate: 5.0000e-04\n",
            "Epoch 36/200\n",
            "\u001b[1m69/69\u001b[0m \u001b[32m━━━━━━━━━━━━━━━━━━━━\u001b[0m\u001b[37m\u001b[0m \u001b[1m0s\u001b[0m 4ms/step - loss: 552882.0000 - mae: 601.2870 - val_loss: 13542.0977 - val_mae: 91.2214 - learning_rate: 5.0000e-04\n",
            "Epoch 37/200\n",
            "\u001b[1m69/69\u001b[0m \u001b[32m━━━━━━━━━━━━━━━━━━━━\u001b[0m\u001b[37m\u001b[0m \u001b[1m0s\u001b[0m 4ms/step - loss: 671564.7500 - mae: 687.8167 - val_loss: 8919.5439 - val_mae: 71.2165 - learning_rate: 5.0000e-04\n",
            "Epoch 38/200\n",
            "\u001b[1m69/69\u001b[0m \u001b[32m━━━━━━━━━━━━━━━━━━━━\u001b[0m\u001b[37m\u001b[0m \u001b[1m0s\u001b[0m 4ms/step - loss: 670439.2500 - mae: 655.3705 - val_loss: 10757.0215 - val_mae: 79.0411 - learning_rate: 5.0000e-04\n",
            "Epoch 39/200\n",
            "\u001b[1m69/69\u001b[0m \u001b[32m━━━━━━━━━━━━━━━━━━━━\u001b[0m\u001b[37m\u001b[0m \u001b[1m0s\u001b[0m 4ms/step - loss: 592969.5000 - mae: 620.0347 - val_loss: 13320.0010 - val_mae: 88.4233 - learning_rate: 5.0000e-04\n",
            "Epoch 40/200\n",
            "\u001b[1m69/69\u001b[0m \u001b[32m━━━━━━━━━━━━━━━━━━━━\u001b[0m\u001b[37m\u001b[0m \u001b[1m0s\u001b[0m 4ms/step - loss: 617016.5000 - mae: 596.1187 - val_loss: 7704.6768 - val_mae: 60.9404 - learning_rate: 5.0000e-04\n",
            "Epoch 41/200\n",
            "\u001b[1m69/69\u001b[0m \u001b[32m━━━━━━━━━━━━━━━━━━━━\u001b[0m\u001b[37m\u001b[0m \u001b[1m0s\u001b[0m 4ms/step - loss: 507091.6250 - mae: 573.5772 - val_loss: 12029.2930 - val_mae: 82.6637 - learning_rate: 5.0000e-04\n",
            "Epoch 42/200\n",
            "\u001b[1m69/69\u001b[0m \u001b[32m━━━━━━━━━━━━━━━━━━━━\u001b[0m\u001b[37m\u001b[0m \u001b[1m0s\u001b[0m 4ms/step - loss: 587535.3750 - mae: 579.3614 - val_loss: 8708.8164 - val_mae: 70.0730 - learning_rate: 5.0000e-04\n",
            "Epoch 43/200\n",
            "\u001b[1m69/69\u001b[0m \u001b[32m━━━━━━━━━━━━━━━━━━━━\u001b[0m\u001b[37m\u001b[0m \u001b[1m0s\u001b[0m 4ms/step - loss: 551807.1250 - mae: 570.5933 - val_loss: 11729.1104 - val_mae: 84.8659 - learning_rate: 5.0000e-04\n",
            "Epoch 44/200\n",
            "\u001b[1m69/69\u001b[0m \u001b[32m━━━━━━━━━━━━━━━━━━━━\u001b[0m\u001b[37m\u001b[0m \u001b[1m0s\u001b[0m 5ms/step - loss: 479058.8438 - mae: 563.1299 - val_loss: 9730.7119 - val_mae: 71.1117 - learning_rate: 5.0000e-04\n",
            "Epoch 45/200\n",
            "\u001b[1m69/69\u001b[0m \u001b[32m━━━━━━━━━━━━━━━━━━━━\u001b[0m\u001b[37m\u001b[0m \u001b[1m0s\u001b[0m 4ms/step - loss: 676160.8750 - mae: 663.3067 - val_loss: 8055.6226 - val_mae: 65.2633 - learning_rate: 5.0000e-04\n",
            "Epoch 46/200\n",
            "\u001b[1m69/69\u001b[0m \u001b[32m━━━━━━━━━━━━━━━━━━━━\u001b[0m\u001b[37m\u001b[0m \u001b[1m0s\u001b[0m 4ms/step - loss: 589350.6250 - mae: 583.7852 - val_loss: 10691.0117 - val_mae: 75.1508 - learning_rate: 5.0000e-04\n",
            "Epoch 47/200\n",
            "\u001b[1m69/69\u001b[0m \u001b[32m━━━━━━━━━━━━━━━━━━━━\u001b[0m\u001b[37m\u001b[0m \u001b[1m0s\u001b[0m 4ms/step - loss: 662253.6250 - mae: 638.9586 - val_loss: 8416.4893 - val_mae: 65.0236 - learning_rate: 2.5000e-04\n",
            "Epoch 48/200\n",
            "\u001b[1m69/69\u001b[0m \u001b[32m━━━━━━━━━━━━━━━━━━━━\u001b[0m\u001b[37m\u001b[0m \u001b[1m0s\u001b[0m 4ms/step - loss: 601475.6875 - mae: 606.2064 - val_loss: 8108.3516 - val_mae: 67.0525 - learning_rate: 2.5000e-04\n",
            "Epoch 49/200\n",
            "\u001b[1m69/69\u001b[0m \u001b[32m━━━━━━━━━━━━━━━━━━━━\u001b[0m\u001b[37m\u001b[0m \u001b[1m0s\u001b[0m 4ms/step - loss: 546974.6875 - mae: 599.8148 - val_loss: 9386.9463 - val_mae: 74.1048 - learning_rate: 2.5000e-04\n",
            "Epoch 50/200\n",
            "\u001b[1m69/69\u001b[0m \u001b[32m━━━━━━━━━━━━━━━━━━━━\u001b[0m\u001b[37m\u001b[0m \u001b[1m0s\u001b[0m 4ms/step - loss: 583701.3125 - mae: 622.4298 - val_loss: 11076.1416 - val_mae: 79.1104 - learning_rate: 2.5000e-04\n",
            "Epoch 51/200\n",
            "\u001b[1m69/69\u001b[0m \u001b[32m━━━━━━━━━━━━━━━━━━━━\u001b[0m\u001b[37m\u001b[0m \u001b[1m0s\u001b[0m 4ms/step - loss: 835239.0625 - mae: 721.2368 - val_loss: 9642.6084 - val_mae: 73.4725 - learning_rate: 2.5000e-04\n",
            "Epoch 52/200\n",
            "\u001b[1m69/69\u001b[0m \u001b[32m━━━━━━━━━━━━━━━━━━━━\u001b[0m\u001b[37m\u001b[0m \u001b[1m0s\u001b[0m 4ms/step - loss: 672611.9375 - mae: 686.6080 - val_loss: 8388.3701 - val_mae: 66.6432 - learning_rate: 2.5000e-04\n"
          ]
        }
      ]
    },
    {
      "cell_type": "code",
      "source": [
        "y_pred = model.predict(X_test_s).ravel()\n",
        "mae = mean_absolute_error(y_test, y_pred)\n",
        "r2 = r2_score(y_test, y_pred)\n",
        "\n",
        "print(\"Test MAE:\", mae)\n",
        "print(\"Test R²:\", r2)\n"
      ],
      "metadata": {
        "colab": {
          "base_uri": "https://localhost:8080/"
        },
        "id": "WlvWtIFLS9g6",
        "outputId": "a17c8525-7b2f-460b-db11-f7dc9bd7ed13"
      },
      "execution_count": 10,
      "outputs": [
        {
          "output_type": "stream",
          "name": "stdout",
          "text": [
            "\u001b[1m21/21\u001b[0m \u001b[32m━━━━━━━━━━━━━━━━━━━━\u001b[0m\u001b[37m\u001b[0m \u001b[1m1s\u001b[0m 8ms/step\n",
            "Test MAE: 60.44215833232003\n",
            "Test R²: 0.9867055232572517\n"
          ]
        }
      ]
    },
    {
      "cell_type": "code",
      "source": [
        "plt.figure(figsize=(12,5))\n",
        "\n",
        "plt.subplot(1,2,1)\n",
        "plt.plot(history.history['loss'], label='Train Loss')\n",
        "plt.plot(history.history['val_loss'], label='Val Loss')\n",
        "plt.xlabel('Epoch'); plt.ylabel('MSE Loss'); plt.legend()\n",
        "\n",
        "plt.subplot(1,2,2)\n",
        "plt.scatter(y_test, y_pred, alpha=0.5)\n",
        "plt.plot([y_test.min(), y_test.max()], [y_test.min(), y_test.max()], 'r--')\n",
        "plt.xlabel(\"True Capacity (kN)\")\n",
        "plt.ylabel(\"Predicted Capacity (kN)\")\n",
        "plt.title(\"Prediction vs Actual\")\n",
        "\n",
        "plt.tight_layout()\n",
        "plt.show()\n"
      ],
      "metadata": {
        "colab": {
          "base_uri": "https://localhost:8080/",
          "height": 507
        },
        "id": "jwlUu7nRTFUG",
        "outputId": "8a42be22-15c6-4e93-fce4-468f779d97fe"
      },
      "execution_count": 11,
      "outputs": [
        {
          "output_type": "display_data",
          "data": {
            "text/plain": [
              "<Figure size 1200x500 with 2 Axes>"
            ],
            "image/png": "[encoded data removed]"
          },
          "metadata": {}
        }
      ]
    },
    {
      "cell_type": "code",
      "source": [
        "model.save(\"beam_fnn_model.keras\")   # <-- fixed\n",
        "joblib.dump(scaler, \"scaler.save\")\n",
        "\n",
        "print(\"✅ Model and scaler saved!\")"
      ],
      "metadata": {
        "colab": {
          "base_uri": "https://localhost:8080/"
        },
        "id": "FkMDojreTJvT",
        "outputId": "42b7e3df-a064-46f9-f327-ec188419d242"
      },
      "execution_count": 12,
      "outputs": [
        {
          "output_type": "stream",
          "name": "stdout",
          "text": [
            "✅ Model and scaler saved!\n"
          ]
        }
      ]
    },
    {
      "cell_type": "code",
      "source": [
        "model.save(\"beam_fnn_model.keras\")   # model\n",
        "joblib.dump(scaler, \"scaler.save\")   # scaler\n"
      ],
      "metadata": {
        "colab": {
          "base_uri": "https://localhost:8080/"
        },
        "id": "rNCdqGujTL1I",
        "outputId": "633d82b5-223c-46d2-a8e8-243c8b19e1b2"
      },
      "execution_count": 13,
      "outputs": [
        {
          "output_type": "execute_result",
          "data": {
            "text/plain": [
              "['scaler.save']"
            ]
          },
          "metadata": {},
          "execution_count": 13
        }
      ]
    },
    {
      "cell_type": "code",
      "source": [
        "import tensorflow as tf\n",
        "import joblib\n",
        "\n",
        "# Load model (Keras format)\n",
        "model = tf.keras.models.load_model(\"beam_fnn_model.keras\")\n",
        "\n",
        "# Load scaler\n",
        "scaler = joblib.load(\"scaler.save\")\n",
        "\n",
        "print(\"✅ Model and Scaler Loaded Successfully!\")\n"
      ],
      "metadata": {
        "colab": {
          "base_uri": "https://localhost:8080/"
        },
        "id": "bG7RkYW8TSRQ",
        "outputId": "2aa4b067-0055-494d-abb1-0cd073c34994"
      },
      "execution_count": 14,
      "outputs": [
        {
          "output_type": "stream",
          "name": "stdout",
          "text": [
            "✅ Model and Scaler Loaded Successfully!\n"
          ]
        }
      ]
    },
    {
      "cell_type": "code",
      "source": [
        "sample = X_test[:5]\n",
        "sample_scaled = scaler.transform(sample)\n",
        "predictions = model.predict(sample_scaled)\n",
        "\n",
        "print(\"Predictions:\", predictions.ravel())\n",
        "print(\"Actual:\", y_test[:5])"
      ],
      "metadata": {
        "colab": {
          "base_uri": "https://localhost:8080/"
        },
        "id": "hbYiFoqmTV3O",
        "outputId": "3b0455c5-1665-46a4-9714-7da57ad8e6da"
      },
      "execution_count": 15,
      "outputs": [
        {
          "output_type": "stream",
          "name": "stdout",
          "text": [
            "\u001b[1m1/1\u001b[0m \u001b[32m━━━━━━━━━━━━━━━━━━━━\u001b[0m\u001b[37m\u001b[0m \u001b[1m0s\u001b[0m 107ms/step\n",
            "Predictions: [4405.4756 3891.9165 2806.8887 4380.3    4548.254 ]\n",
            "Actual: [4328.60822065 3845.51341463 2898.14573593 4596.11985649 4564.5000829 ]\n"
          ]
        }
      ]
    },
    {
      "cell_type": "code",
      "source": [
        "import numpy as np\n",
        "\n",
        "# Suppose your model expects 9 features\n",
        "EXPECTED_FEATURES = 9\n",
        "\n",
        "# Default values for missing features (can be 0 or column means)\n",
        "DEFAULT_VALUES = [0] * EXPECTED_FEATURES  # replace with actual means if available\n",
        "\n",
        "def predict_capacity(features):\n",
        "    \"\"\"\n",
        "    Predict bearing capacity safely even if some features are missing.\n",
        "\n",
        "    features: list or array of input features (can be < EXPECTED_FEATURES)\n",
        "    \"\"\"\n",
        "    # Fill missing features\n",
        "    features_filled = list(features)  # copy input\n",
        "    if len(features_filled) < EXPECTED_FEATURES:\n",
        "        features_filled += DEFAULT_VALUES[len(features_filled):]\n",
        "\n",
        "    # Convert to 2D array for scaler\n",
        "    features_array = np.array([features_filled])\n",
        "\n",
        "    # Scale and predict\n",
        "    features_scaled = scaler.transform(features_array)\n",
        "    return model.predict(features_scaled)[0]\n",
        "\n",
        "# Example\n",
        "new_beam = [200, 300, 25, 415]  # only 4 features\n",
        "print(\"Predicted Bearing Capacity:\", predict_capacity(new_beam))"
      ],
      "metadata": {
        "colab": {
          "base_uri": "https://localhost:8080/"
        },
        "id": "9j7DRHwbTlmC",
        "outputId": "ba3791b4-db84-43e9-fc2f-85d5ba6c77b1"
      },
      "execution_count": 16,
      "outputs": [
        {
          "output_type": "stream",
          "name": "stdout",
          "text": [
            "\u001b[1m1/1\u001b[0m \u001b[32m━━━━━━━━━━━━━━━━━━━━\u001b[0m\u001b[37m\u001b[0m \u001b[1m0s\u001b[0m 160ms/step\n",
            "Predicted Bearing Capacity: [15302.6045]\n"
          ]
        }
      ]
    },
    {
      "cell_type": "code",
      "source": [
        "# Load model (Keras format)\n",
        "import tensorflow as tf\n",
        "import joblib\n",
        "\n",
        "model = tf.keras.models.load_model(\"beam_fnn_model.keras\")\n",
        "\n",
        "# Load scaler\n",
        "scaler = joblib.load(\"scaler.save\")"
      ],
      "metadata": {
        "id": "Uwx-DkSxTm4g"
      },
      "execution_count": 17,
      "outputs": []
    },
    {
      "cell_type": "code",
      "source": [
        "def predict_capacity(features):\n",
        "    features_scaled = scaler.transform([features])\n",
        "    pred = model.predict(features_scaled)[0][0]\n",
        "    return pred\n"
      ],
      "metadata": {
        "id": "aoQy9zTRTtC1"
      },
      "execution_count": 18,
      "outputs": []
    },
    {
      "cell_type": "code",
      "source": [
        "import gradio as gr\n",
        "import numpy as np\n",
        "\n",
        "# Your existing function to predict capacity\n",
        "# Make sure it handles scaling and uses the trained model\n",
        "# Example:\n",
        "# def predict_capacity(features):\n",
        "#     features_scaled = scaler.transform([features])\n",
        "#     return model.predict(features_scaled)[0][0]\n",
        "\n",
        "def beam_predict(length, width, height, conc_grade, long_ratio,\n",
        "                 stirrup_spacing, stirrup_diameter, steel_yield, conc_strength):\n",
        "    features = [length, width, height, conc_grade, long_ratio,\n",
        "                stirrup_spacing, stirrup_diameter, steel_yield, conc_strength]\n",
        "    capacity = predict_capacity(features)\n",
        "    return f\"Predicted Maximum Bearing Capacity: {round(capacity,2)} kN\"\n",
        "\n",
        "# Create Gradio interface with sliders\n",
        "demo = gr.Interface(\n",
        "    fn=beam_predict,\n",
        "    inputs=[\n",
        "        gr.Slider(500, 3000, step=10, label=\"Beam Length (mm)\"),\n",
        "        gr.Slider(100, 1000, step=10, label=\"Beam Width (mm)\"),\n",
        "        gr.Slider(100, 1000, step=10, label=\"Beam Height (mm)\"),\n",
        "        gr.Slider(10, 80, step=1, label=\"Concrete Grade (MPa)\"),\n",
        "        gr.Slider(0.5, 5.0, step=0.1, label=\"Longitudinal Reinforcement Ratio (%)\"),\n",
        "        gr.Slider(50, 400, step=5, label=\"Stirrup Spacing (mm)\"),\n",
        "        gr.Slider(6, 32, step=1, label=\"Stirrup Diameter (mm)\"),\n",
        "        gr.Slider(250, 600, step=5, label=\"Steel Yield Strength (MPa)\"),\n",
        "        gr.Slider(10, 80, step=1, label=\"Concrete Compressive Strength (MPa)\")\n",
        "    ],\n",
        "    outputs=\"text\",\n",
        "    title=\"Beam Bearing Capacity Calculator\",\n",
        "    description=\"Input the beam and material parameters to predict the maximum bearing capacity.\"\n",
        ")\n",
        "\n",
        "demo.launch()\n"
      ],
      "metadata": {
        "colab": {
          "base_uri": "https://localhost:8080/",
          "height": 646
        },
        "id": "dHmX6wAhTxFQ",
        "outputId": "7dff874f-ff8e-43fa-b346-8754a70c45e4"
      },
      "execution_count": 19,
      "outputs": [
        {
          "output_type": "stream",
          "name": "stdout",
          "text": [
            "It looks like you are running Gradio on a hosted Jupyter notebook, which requires `share=True`. Automatically setting `share=True` (you can turn this off by setting `share=False` in `launch()` explicitly).\n",
            "\n",
            "Colab notebook detected. To show errors in colab notebook, set debug=True in launch()\n",
            "* Running on public URL: https://3b2b1b03969cb400a9.gradio.live\n",
            "\n",
            "This share link expires in 1 week. For free permanent hosting and GPU upgrades, run `gradio deploy` from the terminal in the working directory to deploy to Hugging Face Spaces (https://huggingface.co/spaces)\n"
          ]
        },
        {
          "output_type": "display_data",
          "data": {
            "text/plain": [
              "<IPython.core.display.HTML object>"
            ],
            "text/html": [
              "<div><iframe src=\"https://3b2b1b03969cb400a9.gradio.live\" width=\"100%\" height=\"500\" allow=\"autoplay; camera; microphone; clipboard-read; clipboard-write;\" frameborder=\"0\" allowfullscreen></iframe></div>"
            ]
          },
          "metadata": {}
        },
        {
          "output_type": "execute_result",
          "data": {
            "text/plain": []
          },
          "metadata": {},
          "execution_count": 19
        }
      ]
    }
  ]
}